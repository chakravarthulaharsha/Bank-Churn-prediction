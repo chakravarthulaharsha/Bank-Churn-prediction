{
  "cells": [
    {
      "cell_type": "code",
      "execution_count": 112,
      "metadata": {
        "id": "E4KCYVjUj-ra"
      },
      "outputs": [],
      "source": [
        "import numpy as np\n",
        "import pandas as pd\n",
        "import tensorflow as tf\n",
        "import matplotlib.ticker as mtick\n",
        "import matplotlib.pyplot as plt\n",
        "from sklearn.preprocessing import LabelEncoder\n",
        "from sklearn.compose import ColumnTransformer\n",
        "from sklearn.preprocessing import OneHotEncoder\n",
        "from sklearn.model_selection import train_test_split\n",
        "from sklearn.preprocessing import StandardScaler,MinMaxScaler\n",
        "from sklearn.metrics import confusion_matrix,accuracy_score\n",
        "from sklearn.metrics import classification_report"
      ]
    },
    {
      "cell_type": "code",
      "execution_count": 113,
      "metadata": {
        "colab": {
          "base_uri": "https://localhost:8080/"
        },
        "id": "0gcUQ45WkMAR",
        "outputId": "70d90c29-ec25-4d0b-d785-9a6dba3c1a61"
      },
      "outputs": [
        {
          "name": "stdout",
          "output_type": "stream",
          "text": [
            "[[619 'France' 'Female' ... 1 1 101348.88]\n",
            " [608 'Spain' 'Female' ... 0 1 112542.58]\n",
            " [502 'France' 'Female' ... 1 0 113931.57]\n",
            " ...\n",
            " [709 'France' 'Female' ... 0 1 42085.58]\n",
            " [772 'Germany' 'Male' ... 1 0 92888.52]\n",
            " [792 'France' 'Female' ... 1 0 38190.78]]\n",
            "[1 0 1 ... 1 1 0]\n"
          ]
        }
      ],
      "source": [
        "dataset= pd.read_csv('data\\Bank-Churn-data.csv')\n",
        "x=dataset.iloc[:, 3:-1].values\n",
        "y=dataset.iloc[:, -1].values\n",
        "print(x)\n",
        "print(y)"
      ]
    },
    {
      "cell_type": "code",
      "execution_count": 114,
      "metadata": {
        "colab": {
          "base_uri": "https://localhost:8080/"
        },
        "id": "i3aXQB6InBIP",
        "outputId": "41f941d4-02ef-4cdb-e101-8bd2bb5755e8"
      },
      "outputs": [
        {
          "name": "stdout",
          "output_type": "stream",
          "text": [
            "[619 'France' 0 42 2 0.0 1 1 1 101348.88]\n",
            "[1.0 0.0 0.0 619 0 42 2 0.0 1 1 1 101348.88]\n"
          ]
        }
      ],
      "source": [
        "LE=LabelEncoder()\n",
        "x[:, 2]=LE.fit_transform(x[:, 2])\n",
        "print(x[0])\n",
        "x[:, 2]=LE.fit_transform(x[:, 2])\n",
        "ct = ColumnTransformer(transformers=[('encoder', OneHotEncoder(), [1])], remainder='passthrough')\n",
        "x=np.array(ct.fit_transform(x))\n",
        "print(x[0])"
      ]
    },
    {
      "cell_type": "markdown",
      "metadata": {},
      "source": [
        "### Baseline model"
      ]
    },
    {
      "cell_type": "code",
      "execution_count": 115,
      "metadata": {
        "id": "KYtda29eP9Qp"
      },
      "outputs": [],
      "source": [
        "X_train, X_test, y_train, y_test = train_test_split(x, y, test_size = 0.3, random_state = 0)\n",
        "X_test, X_validation, y_test, y_validation = train_test_split(X_test, y_test, test_size = 0.33, random_state = 0)"
      ]
    },
    {
      "cell_type": "code",
      "execution_count": 116,
      "metadata": {},
      "outputs": [],
      "source": [
        "mx = MinMaxScaler()\n",
        "X_train = mx.fit_transform(X_train)\n",
        "X_test = mx.transform(X_test)\n",
        "X_validation=mx.transform(X_validation)"
      ]
    },
    {
      "cell_type": "code",
      "execution_count": 117,
      "metadata": {},
      "outputs": [
        {
          "name": "stdout",
          "output_type": "stream",
          "text": [
            "Epoch 1/50\n",
            "438/438 [==============================] - 2s 2ms/step - loss: 0.6903 - accuracy: 0.6632\n",
            "Epoch 2/50\n",
            "438/438 [==============================] - 1s 2ms/step - loss: 0.6791 - accuracy: 0.7917\n",
            "Epoch 3/50\n",
            "438/438 [==============================] - 1s 2ms/step - loss: 0.6709 - accuracy: 0.8013\n",
            "Epoch 4/50\n",
            "438/438 [==============================] - 1s 2ms/step - loss: 0.6630 - accuracy: 0.7940\n",
            "Epoch 5/50\n",
            "438/438 [==============================] - 1s 2ms/step - loss: 0.6535 - accuracy: 0.7936\n",
            "Epoch 6/50\n",
            "438/438 [==============================] - 1s 2ms/step - loss: 0.6429 - accuracy: 0.7963: 0s - loss: 0.6430 - accuracy: 0.79\n",
            "Epoch 7/50\n",
            "438/438 [==============================] - 1s 2ms/step - loss: 0.6314 - accuracy: 0.8002\n",
            "Epoch 8/50\n",
            "438/438 [==============================] - 1s 2ms/step - loss: 0.6213 - accuracy: 0.7990\n",
            "Epoch 9/50\n",
            "438/438 [==============================] - 1s 2ms/step - loss: 0.6135 - accuracy: 0.7902\n",
            "Epoch 10/50\n",
            "438/438 [==============================] - 1s 2ms/step - loss: 0.6007 - accuracy: 0.7967: 0s - loss: 0.6010 - accuracy: \n",
            "Epoch 11/50\n",
            "438/438 [==============================] - 1s 2ms/step - loss: 0.5894 - accuracy: 0.7994\n",
            "Epoch 12/50\n",
            "438/438 [==============================] - 1s 2ms/step - loss: 0.5792 - accuracy: 0.7988\n",
            "Epoch 13/50\n",
            "438/438 [==============================] - 1s 2ms/step - loss: 0.5706 - accuracy: 0.7960\n",
            "Epoch 14/50\n",
            "438/438 [==============================] - 1s 2ms/step - loss: 0.5628 - accuracy: 0.7943: 0s\n",
            "Epoch 15/50\n",
            "438/438 [==============================] - 1s 2ms/step - loss: 0.5599 - accuracy: 0.7867: 0s -\n",
            "Epoch 16/50\n",
            "438/438 [==============================] - 1s 2ms/step - loss: 0.5441 - accuracy: 0.7999\n",
            "Epoch 17/50\n",
            "438/438 [==============================] - 1s 2ms/step - loss: 0.5446 - accuracy: 0.7903\n",
            "Epoch 18/50\n",
            "438/438 [==============================] - 1s 2ms/step - loss: 0.5327 - accuracy: 0.7984\n",
            "Epoch 19/50\n",
            "438/438 [==============================] - 1s 2ms/step - loss: 0.5314 - accuracy: 0.7932\n",
            "Epoch 20/50\n",
            "438/438 [==============================] - 1s 2ms/step - loss: 0.5248 - accuracy: 0.7961\n",
            "Epoch 21/50\n",
            "438/438 [==============================] - 1s 2ms/step - loss: 0.5173 - accuracy: 0.8011\n",
            "Epoch 22/50\n",
            "438/438 [==============================] - 1s 2ms/step - loss: 0.5115 - accuracy: 0.8048\n",
            "Epoch 23/50\n",
            "438/438 [==============================] - 1s 2ms/step - loss: 0.5135 - accuracy: 0.7976\n",
            "Epoch 24/50\n",
            "438/438 [==============================] - 1s 2ms/step - loss: 0.5154 - accuracy: 0.7935\n",
            "Epoch 25/50\n",
            "438/438 [==============================] - 1s 2ms/step - loss: 0.5150 - accuracy: 0.7909\n",
            "Epoch 26/50\n",
            "438/438 [==============================] - 1s 2ms/step - loss: 0.5049 - accuracy: 0.7991\n",
            "Epoch 27/50\n",
            "438/438 [==============================] - 1s 2ms/step - loss: 0.5019 - accuracy: 0.8008\n",
            "Epoch 28/50\n",
            "438/438 [==============================] - 1s 2ms/step - loss: 0.4999 - accuracy: 0.8014\n",
            "Epoch 29/50\n",
            "438/438 [==============================] - 1s 2ms/step - loss: 0.5049 - accuracy: 0.7945\n",
            "Epoch 30/50\n",
            "438/438 [==============================] - 1s 2ms/step - loss: 0.5066 - accuracy: 0.7910\n",
            "Epoch 31/50\n",
            "438/438 [==============================] - 1s 2ms/step - loss: 0.4966 - accuracy: 0.8003\n",
            "Epoch 32/50\n",
            "438/438 [==============================] - 1s 2ms/step - loss: 0.4939 - accuracy: 0.8008\n",
            "Epoch 33/50\n",
            "438/438 [==============================] - 1s 2ms/step - loss: 0.4959 - accuracy: 0.8003\n",
            "Epoch 34/50\n",
            "438/438 [==============================] - 1s 2ms/step - loss: 0.4937 - accuracy: 0.8003\n",
            "Epoch 35/50\n",
            "438/438 [==============================] - 1s 2ms/step - loss: 0.4953 - accuracy: 0.7991\n",
            "Epoch 36/50\n",
            "438/438 [==============================] - 1s 2ms/step - loss: 0.4972 - accuracy: 0.7960\n",
            "Epoch 37/50\n",
            "438/438 [==============================] - 1s 2ms/step - loss: 0.4984 - accuracy: 0.7948\n",
            "Epoch 38/50\n",
            "438/438 [==============================] - 1s 2ms/step - loss: 0.4946 - accuracy: 0.7986\n",
            "Epoch 39/50\n",
            "438/438 [==============================] - 1s 2ms/step - loss: 0.4966 - accuracy: 0.7959\n",
            "Epoch 40/50\n",
            "438/438 [==============================] - 1s 2ms/step - loss: 0.4996 - accuracy: 0.7941\n",
            "Epoch 41/50\n",
            "438/438 [==============================] - 1s 2ms/step - loss: 0.4904 - accuracy: 0.8011\n",
            "Epoch 42/50\n",
            "438/438 [==============================] - 1s 2ms/step - loss: 0.4953 - accuracy: 0.7952\n",
            "Epoch 43/50\n",
            "438/438 [==============================] - 1s 2ms/step - loss: 0.5013 - accuracy: 0.7889\n",
            "Epoch 44/50\n",
            "438/438 [==============================] - 1s 2ms/step - loss: 0.4875 - accuracy: 0.8022\n",
            "Epoch 45/50\n",
            "438/438 [==============================] - 1s 2ms/step - loss: 0.4950 - accuracy: 0.7950\n",
            "Epoch 46/50\n",
            "438/438 [==============================] - 1s 2ms/step - loss: 0.4901 - accuracy: 0.7982\n",
            "Epoch 47/50\n",
            "438/438 [==============================] - 1s 2ms/step - loss: 0.4976 - accuracy: 0.7931\n",
            "Epoch 48/50\n",
            "438/438 [==============================] - 1s 2ms/step - loss: 0.4875 - accuracy: 0.8009\n",
            "Epoch 49/50\n",
            "438/438 [==============================] - 1s 2ms/step - loss: 0.4791 - accuracy: 0.8065\n",
            "Epoch 50/50\n",
            "438/438 [==============================] - 1s 2ms/step - loss: 0.4814 - accuracy: 0.8047\n"
          ]
        },
        {
          "data": {
            "text/plain": [
              "<tensorflow.python.keras.callbacks.History at 0x20144be8400>"
            ]
          },
          "execution_count": 117,
          "metadata": {},
          "output_type": "execute_result"
        }
      ],
      "source": [
        "ann=tf.keras.models.Sequential()\n",
        "ann.add(tf.keras.layers.Dense(units=8,activation='relu'))\n",
        "ann.add(tf.keras.layers.Dense(units=1,activation='sigmoid'))   \n",
        "ann.compile(optimizer='FTRL',loss='binary_crossentropy',metrics=['accuracy'])\n",
        "ann.fit(X_train,y_train,batch_size=16,epochs=50)"
      ]
    },
    {
      "cell_type": "code",
      "execution_count": 118,
      "metadata": {},
      "outputs": [],
      "source": [
        "filename = 'data/baseline_model.h5'\n",
        "ann.save(filename)"
      ]
    },
    {
      "cell_type": "code",
      "execution_count": 119,
      "metadata": {},
      "outputs": [
        {
          "name": "stdout",
          "output_type": "stream",
          "text": [
            "              precision    recall  f1-score   support\n",
            "\n",
            "           0       0.79      1.00      0.88      1591\n",
            "           1       0.00      0.00      0.00       419\n",
            "\n",
            "    accuracy                           0.79      2010\n",
            "   macro avg       0.40      0.50      0.44      2010\n",
            "weighted avg       0.63      0.79      0.70      2010\n",
            "\n"
          ]
        },
        {
          "name": "stderr",
          "output_type": "stream",
          "text": [
            "C:\\python3.8\\lib\\site-packages\\sklearn\\metrics\\_classification.py:1318: UndefinedMetricWarning: Precision and F-score are ill-defined and being set to 0.0 in labels with no predicted samples. Use `zero_division` parameter to control this behavior.\n",
            "  _warn_prf(average, modifier, msg_start, len(result))\n",
            "C:\\python3.8\\lib\\site-packages\\sklearn\\metrics\\_classification.py:1318: UndefinedMetricWarning: Precision and F-score are ill-defined and being set to 0.0 in labels with no predicted samples. Use `zero_division` parameter to control this behavior.\n",
            "  _warn_prf(average, modifier, msg_start, len(result))\n",
            "C:\\python3.8\\lib\\site-packages\\sklearn\\metrics\\_classification.py:1318: UndefinedMetricWarning: Precision and F-score are ill-defined and being set to 0.0 in labels with no predicted samples. Use `zero_division` parameter to control this behavior.\n",
            "  _warn_prf(average, modifier, msg_start, len(result))\n"
          ]
        }
      ],
      "source": [
        "y_pred=ann.predict(X_test)\n",
        "y_pred=(y_pred>0.5)\n",
        "print(classification_report(y_test, y_pred))"
      ]
    },
    {
      "cell_type": "markdown",
      "metadata": {
        "id": "540ztrhI7QVk"
      },
      "source": [
        "XGBoost classifier"
      ]
    },
    {
      "cell_type": "code",
      "execution_count": 120,
      "metadata": {
        "colab": {
          "base_uri": "https://localhost:8080/"
        },
        "id": "kxdCpl2m3_be",
        "outputId": "232c692d-6d79-4a63-da45-40a87f62070d"
      },
      "outputs": [
        {
          "name": "stderr",
          "output_type": "stream",
          "text": [
            "C:\\python3.8\\lib\\site-packages\\xgboost\\sklearn.py:1224: UserWarning: The use of label encoder in XGBClassifier is deprecated and will be removed in a future release. To remove this warning, do the following: 1) Pass option use_label_encoder=False when constructing XGBClassifier object; and 2) Encode your labels (y) as integers starting with 0, i.e. 0, 1, 2, ..., [num_class - 1].\n",
            "  warnings.warn(label_encoder_deprecation_msg, UserWarning)\n"
          ]
        },
        {
          "name": "stdout",
          "output_type": "stream",
          "text": [
            "[04:42:16] WARNING: C:/Users/Administrator/workspace/xgboost-win64_release_1.5.1/src/learner.cc:1115: Starting in XGBoost 1.3.0, the default evaluation metric used with the objective 'binary:logistic' was changed from 'error' to 'logloss'. Explicitly set eval_metric if you'd like to restore the old behavior.\n",
            "              precision    recall  f1-score   support\n",
            "\n",
            "           0       0.88      0.95      0.92      1591\n",
            "           1       0.75      0.53      0.62       419\n",
            "\n",
            "    accuracy                           0.86      2010\n",
            "   macro avg       0.82      0.74      0.77      2010\n",
            "weighted avg       0.86      0.86      0.86      2010\n",
            "\n"
          ]
        }
      ],
      "source": [
        "from xgboost import XGBClassifier\n",
        "from sklearn import metrics\n",
        "model = XGBClassifier()\n",
        "model.fit(X_train, y_train)\n",
        "preds = model.predict(X_test)\n",
        "metrics.accuracy_score(y_test, preds)\n",
        "print(classification_report(y_test, preds))"
      ]
    },
    {
      "cell_type": "code",
      "execution_count": 121,
      "metadata": {},
      "outputs": [
        {
          "data": {
            "text/plain": [
              "RowNumber          0\n",
              "CustomerId         0\n",
              "Surname            0\n",
              "CreditScore        0\n",
              "Geography          0\n",
              "Gender             0\n",
              "Age                0\n",
              "Tenure             0\n",
              "Balance            0\n",
              "NumOfProducts      0\n",
              "HasCrCard          0\n",
              "IsActiveMember     0\n",
              "EstimatedSalary    0\n",
              "Exited             0\n",
              "dtype: int64"
            ]
          },
          "execution_count": 121,
          "metadata": {},
          "output_type": "execute_result"
        }
      ],
      "source": [
        "dataset= pd.read_csv('data\\Bank-Churn-data.csv')\n",
        "dataset.head()\n",
        "x=dataset.iloc[:, 3:-1].values\n",
        "y=dataset.iloc[:, -1].values\n",
        "LE=LabelEncoder()\n",
        "x[:, 2]=LE.fit_transform(x[:, 2])\n",
        "x[:, 2]=LE.fit_transform(x[:, 2])\n",
        "ct = ColumnTransformer(transformers=[('encoder', OneHotEncoder(), [1])], remainder='passthrough')\n",
        "x=np.array(ct.fit_transform(x))\n",
        "dataset.isnull().sum()"
      ]
    },
    {
      "cell_type": "code",
      "execution_count": 122,
      "metadata": {},
      "outputs": [
        {
          "data": {
            "text/html": [
              "<div>\n",
              "<style scoped>\n",
              "    .dataframe tbody tr th:only-of-type {\n",
              "        vertical-align: middle;\n",
              "    }\n",
              "\n",
              "    .dataframe tbody tr th {\n",
              "        vertical-align: top;\n",
              "    }\n",
              "\n",
              "    .dataframe thead th {\n",
              "        text-align: right;\n",
              "    }\n",
              "</style>\n",
              "<table border=\"1\" class=\"dataframe\">\n",
              "  <thead>\n",
              "    <tr style=\"text-align: right;\">\n",
              "      <th></th>\n",
              "      <th>CustomerId</th>\n",
              "      <th>CreditScore</th>\n",
              "      <th>Age</th>\n",
              "      <th>Tenure</th>\n",
              "      <th>Balance</th>\n",
              "      <th>NumOfProducts</th>\n",
              "      <th>HasCrCard</th>\n",
              "      <th>IsActiveMember</th>\n",
              "      <th>EstimatedSalary</th>\n",
              "      <th>Exited</th>\n",
              "      <th>...</th>\n",
              "      <th>Surname_Zubarev</th>\n",
              "      <th>Surname_Zubareva</th>\n",
              "      <th>Surname_Zuev</th>\n",
              "      <th>Surname_Zuyev</th>\n",
              "      <th>Surname_Zuyeva</th>\n",
              "      <th>Geography_France</th>\n",
              "      <th>Geography_Germany</th>\n",
              "      <th>Geography_Spain</th>\n",
              "      <th>Gender_Female</th>\n",
              "      <th>Gender_Male</th>\n",
              "    </tr>\n",
              "  </thead>\n",
              "  <tbody>\n",
              "    <tr>\n",
              "      <th>0</th>\n",
              "      <td>15634602</td>\n",
              "      <td>619</td>\n",
              "      <td>42</td>\n",
              "      <td>2</td>\n",
              "      <td>0.00</td>\n",
              "      <td>1</td>\n",
              "      <td>1</td>\n",
              "      <td>1</td>\n",
              "      <td>101348.88</td>\n",
              "      <td>1</td>\n",
              "      <td>...</td>\n",
              "      <td>0</td>\n",
              "      <td>0</td>\n",
              "      <td>0</td>\n",
              "      <td>0</td>\n",
              "      <td>0</td>\n",
              "      <td>1</td>\n",
              "      <td>0</td>\n",
              "      <td>0</td>\n",
              "      <td>1</td>\n",
              "      <td>0</td>\n",
              "    </tr>\n",
              "    <tr>\n",
              "      <th>1</th>\n",
              "      <td>15647311</td>\n",
              "      <td>608</td>\n",
              "      <td>41</td>\n",
              "      <td>1</td>\n",
              "      <td>83807.86</td>\n",
              "      <td>1</td>\n",
              "      <td>0</td>\n",
              "      <td>1</td>\n",
              "      <td>112542.58</td>\n",
              "      <td>0</td>\n",
              "      <td>...</td>\n",
              "      <td>0</td>\n",
              "      <td>0</td>\n",
              "      <td>0</td>\n",
              "      <td>0</td>\n",
              "      <td>0</td>\n",
              "      <td>0</td>\n",
              "      <td>0</td>\n",
              "      <td>1</td>\n",
              "      <td>1</td>\n",
              "      <td>0</td>\n",
              "    </tr>\n",
              "    <tr>\n",
              "      <th>2</th>\n",
              "      <td>15619304</td>\n",
              "      <td>502</td>\n",
              "      <td>42</td>\n",
              "      <td>8</td>\n",
              "      <td>159660.80</td>\n",
              "      <td>3</td>\n",
              "      <td>1</td>\n",
              "      <td>0</td>\n",
              "      <td>113931.57</td>\n",
              "      <td>1</td>\n",
              "      <td>...</td>\n",
              "      <td>0</td>\n",
              "      <td>0</td>\n",
              "      <td>0</td>\n",
              "      <td>0</td>\n",
              "      <td>0</td>\n",
              "      <td>1</td>\n",
              "      <td>0</td>\n",
              "      <td>0</td>\n",
              "      <td>1</td>\n",
              "      <td>0</td>\n",
              "    </tr>\n",
              "    <tr>\n",
              "      <th>3</th>\n",
              "      <td>15701354</td>\n",
              "      <td>699</td>\n",
              "      <td>39</td>\n",
              "      <td>1</td>\n",
              "      <td>0.00</td>\n",
              "      <td>2</td>\n",
              "      <td>0</td>\n",
              "      <td>0</td>\n",
              "      <td>93826.63</td>\n",
              "      <td>0</td>\n",
              "      <td>...</td>\n",
              "      <td>0</td>\n",
              "      <td>0</td>\n",
              "      <td>0</td>\n",
              "      <td>0</td>\n",
              "      <td>0</td>\n",
              "      <td>1</td>\n",
              "      <td>0</td>\n",
              "      <td>0</td>\n",
              "      <td>1</td>\n",
              "      <td>0</td>\n",
              "    </tr>\n",
              "    <tr>\n",
              "      <th>4</th>\n",
              "      <td>15737888</td>\n",
              "      <td>850</td>\n",
              "      <td>43</td>\n",
              "      <td>2</td>\n",
              "      <td>125510.82</td>\n",
              "      <td>1</td>\n",
              "      <td>1</td>\n",
              "      <td>1</td>\n",
              "      <td>79084.10</td>\n",
              "      <td>0</td>\n",
              "      <td>...</td>\n",
              "      <td>0</td>\n",
              "      <td>0</td>\n",
              "      <td>0</td>\n",
              "      <td>0</td>\n",
              "      <td>0</td>\n",
              "      <td>0</td>\n",
              "      <td>0</td>\n",
              "      <td>1</td>\n",
              "      <td>1</td>\n",
              "      <td>0</td>\n",
              "    </tr>\n",
              "  </tbody>\n",
              "</table>\n",
              "<p>5 rows × 2947 columns</p>\n",
              "</div>"
            ],
            "text/plain": [
              "   CustomerId  CreditScore  Age  Tenure    Balance  NumOfProducts  HasCrCard  \\\n",
              "0    15634602          619   42       2       0.00              1          1   \n",
              "1    15647311          608   41       1   83807.86              1          0   \n",
              "2    15619304          502   42       8  159660.80              3          1   \n",
              "3    15701354          699   39       1       0.00              2          0   \n",
              "4    15737888          850   43       2  125510.82              1          1   \n",
              "\n",
              "   IsActiveMember  EstimatedSalary  Exited  ...  Surname_Zubarev  \\\n",
              "0               1        101348.88       1  ...                0   \n",
              "1               1        112542.58       0  ...                0   \n",
              "2               0        113931.57       1  ...                0   \n",
              "3               0         93826.63       0  ...                0   \n",
              "4               1         79084.10       0  ...                0   \n",
              "\n",
              "   Surname_Zubareva  Surname_Zuev  Surname_Zuyev  Surname_Zuyeva  \\\n",
              "0                 0             0              0               0   \n",
              "1                 0             0              0               0   \n",
              "2                 0             0              0               0   \n",
              "3                 0             0              0               0   \n",
              "4                 0             0              0               0   \n",
              "\n",
              "   Geography_France  Geography_Germany  Geography_Spain  Gender_Female  \\\n",
              "0                 1                  0                0              1   \n",
              "1                 0                  0                1              1   \n",
              "2                 1                  0                0              1   \n",
              "3                 1                  0                0              1   \n",
              "4                 0                  0                1              1   \n",
              "\n",
              "   Gender_Male  \n",
              "0            0  \n",
              "1            0  \n",
              "2            0  \n",
              "3            0  \n",
              "4            0  \n",
              "\n",
              "[5 rows x 2947 columns]"
            ]
          },
          "execution_count": 122,
          "metadata": {},
          "output_type": "execute_result"
        }
      ],
      "source": [
        "#Remove RowNumber from the data set\n",
        "df2 = dataset.iloc[:,1:]\n",
        "#Let's convert all the categorical variables into dummy variables\n",
        "df_dummies = pd.get_dummies(df2)\n",
        "df_dummies.head()"
      ]
    },
    {
      "cell_type": "markdown",
      "metadata": {},
      "source": [
        "## Data Exploration"
      ]
    },
    {
      "cell_type": "markdown",
      "metadata": {},
      "source": [
        " ### Senior Citizens : \n",
        " Adding a new feature to the dataset.\n",
        " We are considering people above 60 years as senior Citizens"
      ]
    },
    {
      "cell_type": "code",
      "execution_count": 123,
      "metadata": {},
      "outputs": [
        {
          "name": "stdout",
          "output_type": "stream",
          "text": [
            "['CustomerId', 'Surname', 'CreditScore', 'Geography', 'Gender', 'Age', 'Tenure', 'Balance', 'NumOfProducts', 'HasCrCard', 'IsActiveMember', 'EstimatedSalary', 'Exited', 'SeniorCitizen']\n"
          ]
        },
        {
          "data": {
            "text/html": [
              "<div>\n",
              "<style scoped>\n",
              "    .dataframe tbody tr th:only-of-type {\n",
              "        vertical-align: middle;\n",
              "    }\n",
              "\n",
              "    .dataframe tbody tr th {\n",
              "        vertical-align: top;\n",
              "    }\n",
              "\n",
              "    .dataframe thead th {\n",
              "        text-align: right;\n",
              "    }\n",
              "</style>\n",
              "<table border=\"1\" class=\"dataframe\">\n",
              "  <thead>\n",
              "    <tr style=\"text-align: right;\">\n",
              "      <th></th>\n",
              "      <th>CreditScore</th>\n",
              "      <th>Age</th>\n",
              "      <th>Tenure</th>\n",
              "      <th>Balance</th>\n",
              "      <th>NumOfProducts</th>\n",
              "      <th>HasCrCard</th>\n",
              "      <th>IsActiveMember</th>\n",
              "      <th>EstimatedSalary</th>\n",
              "      <th>SeniorCitizen</th>\n",
              "      <th>Exited</th>\n",
              "      <th>...</th>\n",
              "      <th>Surname_Zubarev</th>\n",
              "      <th>Surname_Zubareva</th>\n",
              "      <th>Surname_Zuev</th>\n",
              "      <th>Surname_Zuyev</th>\n",
              "      <th>Surname_Zuyeva</th>\n",
              "      <th>Geography_France</th>\n",
              "      <th>Geography_Germany</th>\n",
              "      <th>Geography_Spain</th>\n",
              "      <th>Gender_Female</th>\n",
              "      <th>Gender_Male</th>\n",
              "    </tr>\n",
              "  </thead>\n",
              "  <tbody>\n",
              "    <tr>\n",
              "      <th>0</th>\n",
              "      <td>619</td>\n",
              "      <td>42</td>\n",
              "      <td>2</td>\n",
              "      <td>0.00</td>\n",
              "      <td>1</td>\n",
              "      <td>1</td>\n",
              "      <td>1</td>\n",
              "      <td>101348.88</td>\n",
              "      <td>0</td>\n",
              "      <td>1</td>\n",
              "      <td>...</td>\n",
              "      <td>0</td>\n",
              "      <td>0</td>\n",
              "      <td>0</td>\n",
              "      <td>0</td>\n",
              "      <td>0</td>\n",
              "      <td>1</td>\n",
              "      <td>0</td>\n",
              "      <td>0</td>\n",
              "      <td>1</td>\n",
              "      <td>0</td>\n",
              "    </tr>\n",
              "    <tr>\n",
              "      <th>1</th>\n",
              "      <td>608</td>\n",
              "      <td>41</td>\n",
              "      <td>1</td>\n",
              "      <td>83807.86</td>\n",
              "      <td>1</td>\n",
              "      <td>0</td>\n",
              "      <td>1</td>\n",
              "      <td>112542.58</td>\n",
              "      <td>0</td>\n",
              "      <td>0</td>\n",
              "      <td>...</td>\n",
              "      <td>0</td>\n",
              "      <td>0</td>\n",
              "      <td>0</td>\n",
              "      <td>0</td>\n",
              "      <td>0</td>\n",
              "      <td>0</td>\n",
              "      <td>0</td>\n",
              "      <td>1</td>\n",
              "      <td>1</td>\n",
              "      <td>0</td>\n",
              "    </tr>\n",
              "    <tr>\n",
              "      <th>2</th>\n",
              "      <td>502</td>\n",
              "      <td>42</td>\n",
              "      <td>8</td>\n",
              "      <td>159660.80</td>\n",
              "      <td>3</td>\n",
              "      <td>1</td>\n",
              "      <td>0</td>\n",
              "      <td>113931.57</td>\n",
              "      <td>0</td>\n",
              "      <td>1</td>\n",
              "      <td>...</td>\n",
              "      <td>0</td>\n",
              "      <td>0</td>\n",
              "      <td>0</td>\n",
              "      <td>0</td>\n",
              "      <td>0</td>\n",
              "      <td>1</td>\n",
              "      <td>0</td>\n",
              "      <td>0</td>\n",
              "      <td>1</td>\n",
              "      <td>0</td>\n",
              "    </tr>\n",
              "    <tr>\n",
              "      <th>3</th>\n",
              "      <td>699</td>\n",
              "      <td>39</td>\n",
              "      <td>1</td>\n",
              "      <td>0.00</td>\n",
              "      <td>2</td>\n",
              "      <td>0</td>\n",
              "      <td>0</td>\n",
              "      <td>93826.63</td>\n",
              "      <td>0</td>\n",
              "      <td>0</td>\n",
              "      <td>...</td>\n",
              "      <td>0</td>\n",
              "      <td>0</td>\n",
              "      <td>0</td>\n",
              "      <td>0</td>\n",
              "      <td>0</td>\n",
              "      <td>1</td>\n",
              "      <td>0</td>\n",
              "      <td>0</td>\n",
              "      <td>1</td>\n",
              "      <td>0</td>\n",
              "    </tr>\n",
              "    <tr>\n",
              "      <th>4</th>\n",
              "      <td>850</td>\n",
              "      <td>43</td>\n",
              "      <td>2</td>\n",
              "      <td>125510.82</td>\n",
              "      <td>1</td>\n",
              "      <td>1</td>\n",
              "      <td>1</td>\n",
              "      <td>79084.10</td>\n",
              "      <td>0</td>\n",
              "      <td>0</td>\n",
              "      <td>...</td>\n",
              "      <td>0</td>\n",
              "      <td>0</td>\n",
              "      <td>0</td>\n",
              "      <td>0</td>\n",
              "      <td>0</td>\n",
              "      <td>0</td>\n",
              "      <td>0</td>\n",
              "      <td>1</td>\n",
              "      <td>1</td>\n",
              "      <td>0</td>\n",
              "    </tr>\n",
              "  </tbody>\n",
              "</table>\n",
              "<p>5 rows × 2947 columns</p>\n",
              "</div>"
            ],
            "text/plain": [
              "   CreditScore  Age  Tenure    Balance  NumOfProducts  HasCrCard  \\\n",
              "0          619   42       2       0.00              1          1   \n",
              "1          608   41       1   83807.86              1          0   \n",
              "2          502   42       8  159660.80              3          1   \n",
              "3          699   39       1       0.00              2          0   \n",
              "4          850   43       2  125510.82              1          1   \n",
              "\n",
              "   IsActiveMember  EstimatedSalary  SeniorCitizen  Exited  ...  \\\n",
              "0               1        101348.88              0       1  ...   \n",
              "1               1        112542.58              0       0  ...   \n",
              "2               0        113931.57              0       1  ...   \n",
              "3               0         93826.63              0       0  ...   \n",
              "4               1         79084.10              0       0  ...   \n",
              "\n",
              "   Surname_Zubarev  Surname_Zubareva  Surname_Zuev  Surname_Zuyev  \\\n",
              "0                0                 0             0              0   \n",
              "1                0                 0             0              0   \n",
              "2                0                 0             0              0   \n",
              "3                0                 0             0              0   \n",
              "4                0                 0             0              0   \n",
              "\n",
              "   Surname_Zuyeva  Geography_France  Geography_Germany  Geography_Spain  \\\n",
              "0               0                 1                  0                0   \n",
              "1               0                 0                  0                1   \n",
              "2               0                 1                  0                0   \n",
              "3               0                 1                  0                0   \n",
              "4               0                 0                  0                1   \n",
              "\n",
              "   Gender_Female  Gender_Male  \n",
              "0              1            0  \n",
              "1              1            0  \n",
              "2              1            0  \n",
              "3              1            0  \n",
              "4              1            0  \n",
              "\n",
              "[5 rows x 2947 columns]"
            ]
          },
          "execution_count": 123,
          "metadata": {},
          "output_type": "execute_result"
        }
      ],
      "source": [
        "df2['SeniorCitizen'] =  [1 if x > 60 else 0 for x in df2['Age']]\n",
        "column_names = list(df2.columns.values)\n",
        "print(column_names)\n",
        "column_names[-2], column_names[-1] = column_names[-1], column_names[-2]\n",
        "df2=df2.reindex(columns=column_names)\n",
        "df2.head()\n",
        "x=df2.iloc[:, 3:-1].values\n",
        "y=df2.iloc[:, -1].values\n",
        "LE=LabelEncoder()\n",
        "x[:, 2]=LE.fit_transform(x[:, 2])\n",
        "x[:, 2]=LE.fit_transform(x[:, 2])\n",
        "ct = ColumnTransformer(transformers=[('encoder', OneHotEncoder(), [1])], remainder='passthrough')\n",
        "x=np.array(ct.fit_transform(x))\n",
        "df2.isnull().sum()\n",
        "df2 = df2.iloc[:,1:]\n",
        "df_dummies = pd.get_dummies(df2)\n",
        "df_dummies.head()"
      ]
    },
    {
      "cell_type": "code",
      "execution_count": 124,
      "metadata": {},
      "outputs": [
        {
          "data": {
            "text/plain": [
              "Text(0.5, 1.0, '% of Senior Citizens')"
            ]
          },
          "execution_count": 124,
          "metadata": {},
          "output_type": "execute_result"
        },
        {
          "data": {
            "image/png": "[encoded data removed]",
            "text/plain": [
              "<Figure size 360x360 with 1 Axes>"
            ]
          },
          "metadata": {},
          "output_type": "display_data"
        }
      ],
      "source": [
        "ax = (df2['SeniorCitizen'].value_counts()*100.0 /len(df2))\\\n",
        ".plot.pie(autopct='%.1f%%', labels = ['No', 'Yes'],figsize =(5,5), fontsize = 12 )                                                                           \n",
        "ax.yaxis.set_major_formatter(mtick.PercentFormatter())\n",
        "ax.set_ylabel('Senior Citizens',fontsize = 12)\n",
        "ax.set_title('% of Senior Citizens', fontsize = 12)"
      ]
    },
    {
      "cell_type": "code",
      "execution_count": 125,
      "metadata": {},
      "outputs": [
        {
          "data": {
            "text/plain": [
              "<AxesSubplot:>"
            ]
          },
          "execution_count": 125,
          "metadata": {},
          "output_type": "execute_result"
        },
        {
          "data": {
            "image/png": "[encoded data removed]",
            "text/plain": [
              "<Figure size 504x360 with 1 Axes>"
            ]
          },
          "metadata": {
            "needs_background": "light"
          },
          "output_type": "display_data"
        }
      ],
      "source": [
        "plt.figure(figsize=(7,5))\n",
        "df2.corr()['Exited'].sort_values(ascending = False).plot(kind='bar')"
      ]
    },
    {
      "cell_type": "markdown",
      "metadata": {},
      "source": [
        "Age and Balance seem to be positively correlated with churn.\n",
        "\n",
        "Interestingly, rest all the features seem to be negatively related to churn."
      ]
    },
    {
      "cell_type": "code",
      "execution_count": 126,
      "metadata": {},
      "outputs": [
        {
          "data": {
            "image/png": "[encoded data removed]",
            "text/plain": [
              "<Figure size 432x288 with 1 Axes>"
            ]
          },
          "metadata": {
            "needs_background": "light"
          },
          "output_type": "display_data"
        }
      ],
      "source": [
        "colors = ['#4D3425','#E4512B']\n",
        "ax = (df2['Gender'].value_counts()*100.0 /len(df2)).plot(kind='bar',stacked = True,rot = 0,color = colors)\n",
        "ax.yaxis.set_major_formatter(mtick.PercentFormatter())\n",
        "ax.set_ylabel('% Customers')\n",
        "ax.set_xlabel('Gender')\n",
        "ax.set_ylabel('% Customers')\n",
        "ax.set_title('Gender Distribution')\n",
        "\n",
        "# create a list to collect the plt.patches data\n",
        "totals = []\n",
        "\n",
        "# find the values and append to list\n",
        "for i in ax.patches:\n",
        "    totals.append(i.get_width())\n",
        "\n",
        "# set individual bar lables using above list\n",
        "total = sum(totals)\n",
        "\n",
        "for i in ax.patches:\n",
        "    # get_width pulls left or right; get_y pushes up or down\n",
        "    ax.text(i.get_x()+.15, i.get_height()-3.5, \\\n",
        "            str(round((i.get_height()/total), 1))+'%',\n",
        "            fontsize=12,\n",
        "            color='white',\n",
        "           weight = 'bold')"
      ]
    },
    {
      "cell_type": "code",
      "execution_count": 127,
      "metadata": {},
      "outputs": [
        {
          "name": "stderr",
          "output_type": "stream",
          "text": [
            "C:\\python3.8\\lib\\site-packages\\seaborn\\distributions.py:2619: FutureWarning: `distplot` is a deprecated function and will be removed in a future version. Please adapt your code to use either `displot` (a figure-level function with similar flexibility) or `histplot` (an axes-level function for histograms).\n",
            "  warnings.warn(msg, FutureWarning)\n"
          ]
        },
        {
          "data": {
            "text/plain": [
              "Text(0.5, 1.0, '# of Customers by their tenure')"
            ]
          },
          "execution_count": 127,
          "metadata": {},
          "output_type": "execute_result"
        },
        {
          "data": {
            "image/png": "[encoded data removed]",
            "text/plain": [
              "<Figure size 432x288 with 1 Axes>"
            ]
          },
          "metadata": {
            "needs_background": "light"
          },
          "output_type": "display_data"
        }
      ],
      "source": [
        "import seaborn as sns\n",
        "ax = sns.distplot(df2['Tenure'], hist=True, kde=False, \n",
        "             bins=int(180/5), color = 'darkblue', \n",
        "             hist_kws={'edgecolor':'black'},\n",
        "             kde_kws={'linewidth': 4})\n",
        "ax.set_ylabel('# of Customers')\n",
        "ax.set_xlabel('Tenure (years)')\n",
        "ax.set_title('# of Customers by their tenure')"
      ]
    },
    {
      "cell_type": "code",
      "execution_count": 128,
      "metadata": {},
      "outputs": [
        {
          "data": {
            "text/plain": [
              "<AxesSubplot:xlabel='Exited', ylabel='Tenure'>"
            ]
          },
          "execution_count": 128,
          "metadata": {},
          "output_type": "execute_result"
        },
        {
          "data": {
            "image/png": "[encoded data removed]",
            "text/plain": [
              "<Figure size 432x288 with 1 Axes>"
            ]
          },
          "metadata": {
            "needs_background": "light"
          },
          "output_type": "display_data"
        }
      ],
      "source": [
        "sns.boxplot(x = df2.Exited, y = df2.Tenure)"
      ]
    },
    {
      "cell_type": "markdown",
      "metadata": {},
      "source": [
        "Churn vs Tenure: As we can see form the above plot, the customers who do not churn, they tend to stay for a lesser tenure with the Bank."
      ]
    },
    {
      "cell_type": "code",
      "execution_count": 129,
      "metadata": {},
      "outputs": [
        {
          "data": {
            "text/plain": [
              "Text(0.5, 1.0, '# of Customers by Number of products')"
            ]
          },
          "execution_count": 129,
          "metadata": {},
          "output_type": "execute_result"
        },
        {
          "data": {
            "image/png": "[encoded data removed]",
            "text/plain": [
              "<Figure size 432x288 with 1 Axes>"
            ]
          },
          "metadata": {
            "needs_background": "light"
          },
          "output_type": "display_data"
        }
      ],
      "source": [
        "ax = df2['NumOfProducts'].value_counts().plot(kind = 'bar',rot = 0, width = 0.3)\n",
        "ax.set_ylabel('# of Customers')\n",
        "ax.set_title('# of Customers by Number of products')"
      ]
    },
    {
      "cell_type": "code",
      "execution_count": 130,
      "metadata": {},
      "outputs": [
        {
          "data": {
            "image/png": "[encoded data removed]",
            "text/plain": [
              "<Figure size 576x432 with 1 Axes>"
            ]
          },
          "metadata": {
            "needs_background": "light"
          },
          "output_type": "display_data"
        }
      ],
      "source": [
        "colors = ['#4D3425','#E4512B']\n",
        "ax = (df2['Exited'].value_counts()*100.0 /len(df2)).plot(kind='bar',stacked = True,rot = 0,color = colors,figsize = (8,6))\n",
        "ax.yaxis.set_major_formatter(mtick.PercentFormatter())\n",
        "ax.set_ylabel('% Customers',size = 14)\n",
        "ax.set_xlabel('Churn',size = 14)\n",
        "ax.set_title('Churn Rate', size = 14)\n",
        "\n",
        "# create a list to collect the plt.patches data\n",
        "totals = []\n",
        "\n",
        "# find the values and append to list\n",
        "for i in ax.patches:\n",
        "    totals.append(i.get_width())\n",
        "\n",
        "# set individual bar lables using above list\n",
        "total = sum(totals)\n",
        "\n",
        "for i in ax.patches:\n",
        "    # get_width pulls left or right; get_y pushes up or down\n",
        "    ax.text(i.get_x()+.15, i.get_height()-4.0, \\\n",
        "            str(round((i.get_height()/total), 1))+'%',\n",
        "            fontsize=12,\n",
        "            color='white',\n",
        "           weight = 'bold')"
      ]
    },
    {
      "cell_type": "code",
      "execution_count": 131,
      "metadata": {},
      "outputs": [
        {
          "data": {
            "text/plain": [
              "Text(0.5, 1.0, 'Distribution of Credit Score by churn')"
            ]
          },
          "execution_count": 131,
          "metadata": {},
          "output_type": "execute_result"
        },
        {
          "data": {
            "image/png": "[encoded data removed]",
            "text/plain": [
              "<Figure size 432x288 with 1 Axes>"
            ]
          },
          "metadata": {
            "needs_background": "light"
          },
          "output_type": "display_data"
        }
      ],
      "source": [
        "ax = sns.kdeplot(df2.CreditScore[(df2[\"Exited\"] == 0) ],\n",
        "                color=\"Red\", shade = True)\n",
        "ax = sns.kdeplot(df2.CreditScore[(df2[\"Exited\"] == 1) ],\n",
        "                ax =ax, color=\"Blue\", shade= True)\n",
        "ax.legend([\"Not Churn\",\"Churn\"],loc='upper right')\n",
        "ax.set_ylabel('Density')\n",
        "ax.set_xlabel('Credit Score')\n",
        "ax.set_title('Distribution of Credit Score by churn')"
      ]
    },
    {
      "cell_type": "code",
      "execution_count": 132,
      "metadata": {},
      "outputs": [
        {
          "data": {
            "text/plain": [
              "Text(0.5, 1.0, 'Distribution of Balance by churn')"
            ]
          },
          "execution_count": 132,
          "metadata": {},
          "output_type": "execute_result"
        },
        {
          "data": {
            "image/png": "[encoded data removed]",
            "text/plain": [
              "<Figure size 432x288 with 1 Axes>"
            ]
          },
          "metadata": {
            "needs_background": "light"
          },
          "output_type": "display_data"
        }
      ],
      "source": [
        "ax = sns.kdeplot(df2.Balance[(df2[\"Exited\"] == 0) ],\n",
        "                color=\"Red\", shade = True)\n",
        "ax = sns.kdeplot(df2.Balance[(df2[\"Exited\"] == 1) ],\n",
        "                ax =ax, color=\"Blue\", shade= True)\n",
        "ax.legend([\"Not Churn\",\"Churn\"],loc='upper right')\n",
        "ax.set_ylabel('Density')\n",
        "ax.set_xlabel('Balance')\n",
        "ax.set_title('Distribution of Balance by churn')"
      ]
    },
    {
      "cell_type": "code",
      "execution_count": 133,
      "metadata": {},
      "outputs": [
        {
          "data": {
            "text/plain": [
              "Text(0.5, 1.0, 'Distribution of Estimated Salary by churn')"
            ]
          },
          "execution_count": 133,
          "metadata": {},
          "output_type": "execute_result"
        },
        {
          "data": {
            "image/png": "[encoded data removed]",
            "text/plain": [
              "<Figure size 432x288 with 1 Axes>"
            ]
          },
          "metadata": {
            "needs_background": "light"
          },
          "output_type": "display_data"
        }
      ],
      "source": [
        "ax = sns.kdeplot(df2.EstimatedSalary[(df2[\"Exited\"] == 0) ],\n",
        "                color=\"Red\", shade = True)\n",
        "ax = sns.kdeplot(df2.EstimatedSalary[(df2[\"Exited\"] == 1) ],\n",
        "                ax =ax, color=\"Blue\", shade= True)\n",
        "ax.legend([\"Not Churn\",\"Churn\"],loc='upper right')\n",
        "ax.set_ylabel('Density')\n",
        "ax.set_xlabel('Estimated Salary')\n",
        "ax.set_title('Distribution of Estimated Salary by churn')"
      ]
    },
    {
      "cell_type": "code",
      "execution_count": 134,
      "metadata": {},
      "outputs": [
        {
          "data": {
            "image/png": "[encoded data removed]",
            "text/plain": [
              "<Figure size 720x432 with 1 Axes>"
            ]
          },
          "metadata": {
            "needs_background": "light"
          },
          "output_type": "display_data"
        }
      ],
      "source": [
        "colors = ['#4D3425','#E4512B']\n",
        "prod_churn = df2.groupby(['NumOfProducts','Exited']).size().unstack()\n",
        "\n",
        "ax = (prod_churn.T*100.0 / prod_churn.T.sum()).T.plot(kind='bar',\n",
        "                                                                width = 0.3,\n",
        "                                                                stacked = True,\n",
        "                                                                rot = 0, \n",
        "                                                                figsize = (10,6),\n",
        "                                                                color = colors)\n",
        "ax.yaxis.set_major_formatter(mtick.PercentFormatter())\n",
        "ax.legend(loc='best',prop={'size':14},title = 'Churn')\n",
        "ax.set_ylabel('% Customers',size = 14)\n",
        "ax.set_title('Churn by NumOfProducts',size = 14)\n",
        "\n",
        "# Code to add the data labels on the stacked bar chart\n",
        "for p in ax.patches:\n",
        "    width, height = p.get_width(), p.get_height()\n",
        "    x, y = p.get_xy() \n",
        "    ax.annotate('{:.0f}%'.format(height), (p.get_x()+.25*width, p.get_y()+.4*height),\n",
        "                color = 'white',\n",
        "               weight = 'bold',\n",
        "               size = 14)"
      ]
    },
    {
      "cell_type": "markdown",
      "metadata": {},
      "source": [
        "Churn by Number of products :  Similar to what we saw in the correlation plot, the customers who have a more products have a very high churn rate."
      ]
    },
    {
      "cell_type": "code",
      "execution_count": 135,
      "metadata": {},
      "outputs": [
        {
          "data": {
            "image/png": "[encoded data removed]",
            "text/plain": [
              "<Figure size 720x432 with 1 Axes>"
            ]
          },
          "metadata": {
            "needs_background": "light"
          },
          "output_type": "display_data"
        }
      ],
      "source": [
        "colors = ['#4D3425','#E4512B']\n",
        "prod_churn = df2.groupby(['Geography','Exited']).size().unstack()\n",
        "\n",
        "ax = (prod_churn.T*100.0 / prod_churn.T.sum()).T.plot(kind='bar',\n",
        "                                                                width = 0.3,\n",
        "                                                                stacked = True,\n",
        "                                                                rot = 0, \n",
        "                                                                figsize = (10,6),\n",
        "                                                                color = colors)\n",
        "ax.yaxis.set_major_formatter(mtick.PercentFormatter())\n",
        "ax.legend(loc='best',prop={'size':14},title = 'Churn')\n",
        "ax.set_ylabel('% Customers',size = 14)\n",
        "ax.set_title('Churn by Geography',size = 14)\n",
        "\n",
        "for p in ax.patches:\n",
        "    width, height = p.get_width(), p.get_height()\n",
        "    x, y = p.get_xy() \n",
        "    ax.annotate('{:.0f}%'.format(height), (p.get_x()+.25*width, p.get_y()+.4*height),\n",
        "                color = 'white',\n",
        "               weight = 'bold',\n",
        "               size = 14)"
      ]
    },
    {
      "cell_type": "code",
      "execution_count": 136,
      "metadata": {},
      "outputs": [],
      "source": [
        "# We will use the data frame where we had created dummy variables\n",
        "y = df_dummies['Exited'].values\n",
        "X = df_dummies.drop(columns = ['Exited'])\n",
        "\n",
        "# Scaling all the variables to a range of 0 to 1\n",
        "from sklearn.preprocessing import MinMaxScaler\n",
        "features = X.columns.values\n",
        "scaler = MinMaxScaler(feature_range = (0,1))\n",
        "scaler.fit(X)\n",
        "X = pd.DataFrame(scaler.transform(X))\n",
        "X.columns = features\n",
        "X_train, X_test, y_train, y_test = train_test_split(X, y, test_size = 0.3, random_state = 0)\n",
        "X_test, X_validation, y_test, y_validation = train_test_split(X_test, y_test, test_size = 0.33, random_state = 0)"
      ]
    },
    {
      "cell_type": "code",
      "execution_count": 137,
      "metadata": {},
      "outputs": [
        {
          "name": "stdout",
          "output_type": "stream",
          "text": [
            "0.8199004975124378\n"
          ]
        },
        {
          "name": "stderr",
          "output_type": "stream",
          "text": [
            "C:\\python3.8\\lib\\site-packages\\sklearn\\linear_model\\_logistic.py:814: ConvergenceWarning: lbfgs failed to converge (status=1):\n",
            "STOP: TOTAL NO. of ITERATIONS REACHED LIMIT.\n",
            "\n",
            "Increase the number of iterations (max_iter) or scale the data as shown in:\n",
            "    https://scikit-learn.org/stable/modules/preprocessing.html\n",
            "Please also refer to the documentation for alternative solver options:\n",
            "    https://scikit-learn.org/stable/modules/linear_model.html#logistic-regression\n",
            "  n_iter_i = _check_optimize_result(\n"
          ]
        }
      ],
      "source": [
        "# Running logistic regression model\n",
        "from sklearn.linear_model import LogisticRegression\n",
        "model = LogisticRegression()\n",
        "result = model.fit(X_train, y_train)\n",
        "from sklearn import metrics\n",
        "prediction_test = model.predict(X_test)\n",
        "# Print the prediction accuracy\n",
        "print (metrics.accuracy_score(y_test, prediction_test))"
      ]
    },
    {
      "cell_type": "markdown",
      "metadata": {},
      "source": [
        "## Random Forest"
      ]
    },
    {
      "cell_type": "code",
      "execution_count": 138,
      "metadata": {},
      "outputs": [
        {
          "name": "stdout",
          "output_type": "stream",
          "text": [
            "0.7885\n"
          ]
        }
      ],
      "source": [
        "from sklearn.ensemble import RandomForestClassifier\n",
        "X_train, X_test, y_train, y_test = train_test_split(X, y, test_size=0.2, random_state=101)\n",
        "model_rf = RandomForestClassifier(n_estimators=1000 , oob_score = True, n_jobs = -1,\n",
        "                                  random_state =50, max_features = \"auto\",\n",
        "                                  max_leaf_nodes = 30)\n",
        "model_rf.fit(X_train, y_train)\n",
        "\n",
        "# Make predictions\n",
        "prediction_test = model_rf.predict(X_test)\n",
        "print (metrics.accuracy_score(y_test, prediction_test))"
      ]
    },
    {
      "cell_type": "code",
      "execution_count": 139,
      "metadata": {},
      "outputs": [
        {
          "data": {
            "text/plain": [
              "<AxesSubplot:>"
            ]
          },
          "execution_count": 139,
          "metadata": {},
          "output_type": "execute_result"
        },
        {
          "data": {
            "image/png": "[encoded data removed]",
            "text/plain": [
              "<Figure size 432x288 with 1 Axes>"
            ]
          },
          "metadata": {
            "needs_background": "light"
          },
          "output_type": "display_data"
        }
      ],
      "source": [
        "importances = model_rf.feature_importances_\n",
        "weights = pd.Series(importances,\n",
        "                 index=X.columns.values)\n",
        "weights.sort_values()[-10:].plot(kind = 'barh')"
      ]
    },
    {
      "cell_type": "markdown",
      "metadata": {},
      "source": [
        "Artificial neural network"
      ]
    },
    {
      "cell_type": "code",
      "execution_count": 140,
      "metadata": {},
      "outputs": [
        {
          "name": "stdout",
          "output_type": "stream",
          "text": [
            "[645 'Spain' 1 44 8 113755.78 2 1 0 149756.71]\n",
            "[0.0 0.0 1.0 645 1 44 8 113755.78 2 1 0 149756.71]\n",
            "1\n"
          ]
        }
      ],
      "source": [
        "x=dataset.iloc[:, 3:-1].values\n",
        "y=dataset.iloc[:, -1].values\n",
        "LE=LabelEncoder()\n",
        "x[:, 2]=LE.fit_transform(x[:, 2])\n",
        "print(x[5])\n",
        "ct = ColumnTransformer(transformers=[('encoder', OneHotEncoder(), [1])], remainder='passthrough')\n",
        "x=np.array(ct.fit_transform(x))\n",
        "print(x[5])\n",
        "print(y[5])"
      ]
    },
    {
      "cell_type": "code",
      "execution_count": 141,
      "metadata": {},
      "outputs": [],
      "source": [
        "X_train, X_test, y_train, y_test = train_test_split(x, y, test_size = 0.3, random_state = 0)\n",
        "X_test, X_validation, y_test, y_validation = train_test_split(X_test, y_test, test_size = 0.33, random_state = 0)"
      ]
    },
    {
      "cell_type": "code",
      "execution_count": 142,
      "metadata": {
        "id": "Kr1toXzTQeXS"
      },
      "outputs": [],
      "source": [
        "sc = StandardScaler()\n",
        "X_train = sc.fit_transform(X_train)\n",
        "X_test = sc.transform(X_test)\n",
        "X_validation=sc.transform(X_validation)"
      ]
    },
    {
      "cell_type": "code",
      "execution_count": 143,
      "metadata": {
        "id": "hTdFpnx3BNhw"
      },
      "outputs": [],
      "source": [
        "def leaky_relu(x):\n",
        "    return tf.nn.leaky_relu(x, alpha=0.01)"
      ]
    },
    {
      "cell_type": "code",
      "execution_count": 144,
      "metadata": {
        "colab": {
          "base_uri": "https://localhost:8080/"
        },
        "id": "2gnhbSzAQ2yb",
        "outputId": "9178c3b9-1f6c-412a-fb25-7318637e24ba"
      },
      "outputs": [
        {
          "name": "stdout",
          "output_type": "stream",
          "text": [
            "Epoch 1/200\n",
            "438/438 [==============================] - 2s 2ms/step - loss: 1.6537 - accuracy: 0.6617: 0s - loss: 1.8095 - ac\n",
            "Epoch 2/200\n",
            "438/438 [==============================] - 1s 2ms/step - loss: 0.6471 - accuracy: 0.7583: 0s - loss: 0.6590 - accura\n",
            "Epoch 3/200\n",
            "438/438 [==============================] - 1s 2ms/step - loss: 0.5457 - accuracy: 0.7836\n",
            "Epoch 4/200\n",
            "438/438 [==============================] - 1s 2ms/step - loss: 0.4909 - accuracy: 0.8065\n",
            "Epoch 5/200\n",
            "438/438 [==============================] - 1s 2ms/step - loss: 0.4812 - accuracy: 0.8093\n",
            "Epoch 6/200\n",
            "438/438 [==============================] - 1s 2ms/step - loss: 0.4728 - accuracy: 0.8184\n",
            "Epoch 7/200\n",
            "438/438 [==============================] - 1s 2ms/step - loss: 0.4339 - accuracy: 0.8175\n",
            "Epoch 8/200\n",
            "438/438 [==============================] - 1s 2ms/step - loss: 0.4540 - accuracy: 0.8211\n",
            "Epoch 9/200\n",
            "438/438 [==============================] - 1s 2ms/step - loss: 0.4316 - accuracy: 0.8265\n",
            "Epoch 10/200\n",
            "438/438 [==============================] - 1s 2ms/step - loss: 0.4379 - accuracy: 0.8304\n",
            "Epoch 11/200\n",
            "438/438 [==============================] - 1s 2ms/step - loss: 0.4319 - accuracy: 0.8298\n",
            "Epoch 12/200\n",
            "438/438 [==============================] - 1s 2ms/step - loss: 0.4077 - accuracy: 0.8326\n",
            "Epoch 13/200\n",
            "438/438 [==============================] - 1s 2ms/step - loss: 0.4056 - accuracy: 0.8325\n",
            "Epoch 14/200\n",
            "438/438 [==============================] - 1s 2ms/step - loss: 0.3959 - accuracy: 0.8383\n",
            "Epoch 15/200\n",
            "438/438 [==============================] - 1s 2ms/step - loss: 0.3883 - accuracy: 0.8346\n",
            "Epoch 16/200\n",
            "438/438 [==============================] - 1s 2ms/step - loss: 0.3856 - accuracy: 0.8397\n",
            "Epoch 17/200\n",
            "438/438 [==============================] - 1s 2ms/step - loss: 0.3785 - accuracy: 0.8418\n",
            "Epoch 18/200\n",
            "438/438 [==============================] - 1s 2ms/step - loss: 0.3739 - accuracy: 0.8402\n",
            "Epoch 19/200\n",
            "438/438 [==============================] - 1s 2ms/step - loss: 0.3865 - accuracy: 0.8369\n",
            "Epoch 20/200\n",
            "438/438 [==============================] - 1s 2ms/step - loss: 0.3907 - accuracy: 0.8351\n",
            "Epoch 21/200\n",
            "438/438 [==============================] - 1s 2ms/step - loss: 0.3664 - accuracy: 0.8481\n",
            "Epoch 22/200\n",
            "438/438 [==============================] - 1s 2ms/step - loss: 0.3775 - accuracy: 0.8418\n",
            "Epoch 23/200\n",
            "438/438 [==============================] - 1s 2ms/step - loss: 0.3627 - accuracy: 0.8486\n",
            "Epoch 24/200\n",
            "438/438 [==============================] - 1s 2ms/step - loss: 0.3749 - accuracy: 0.8422\n",
            "Epoch 25/200\n",
            "438/438 [==============================] - 1s 2ms/step - loss: 0.3736 - accuracy: 0.8465: 0s - loss: 0.378\n",
            "Epoch 26/200\n",
            "438/438 [==============================] - 1s 2ms/step - loss: 0.3624 - accuracy: 0.8492\n",
            "Epoch 27/200\n",
            "438/438 [==============================] - 1s 2ms/step - loss: 0.3712 - accuracy: 0.8400: 0s - loss: 0.3728 - accuracy\n",
            "Epoch 28/200\n",
            "438/438 [==============================] - 1s 2ms/step - loss: 0.3571 - accuracy: 0.8524\n",
            "Epoch 29/200\n",
            "438/438 [==============================] - 1s 2ms/step - loss: 0.3575 - accuracy: 0.8543\n",
            "Epoch 30/200\n",
            "438/438 [==============================] - 1s 2ms/step - loss: 0.3401 - accuracy: 0.8615: 0s -\n",
            "Epoch 31/200\n",
            "438/438 [==============================] - 1s 2ms/step - loss: 0.3546 - accuracy: 0.8586\n",
            "Epoch 32/200\n",
            "438/438 [==============================] - 1s 3ms/step - loss: 0.3605 - accuracy: 0.8485\n",
            "Epoch 33/200\n",
            "438/438 [==============================] - 1s 2ms/step - loss: 0.3543 - accuracy: 0.8525: 0s - los\n",
            "Epoch 34/200\n",
            "438/438 [==============================] - 1s 2ms/step - loss: 0.3557 - accuracy: 0.8499\n",
            "Epoch 35/200\n",
            "438/438 [==============================] - 1s 2ms/step - loss: 0.3528 - accuracy: 0.8594\n",
            "Epoch 36/200\n",
            "438/438 [==============================] - 1s 2ms/step - loss: 0.3493 - accuracy: 0.8540\n",
            "Epoch 37/200\n",
            "438/438 [==============================] - 1s 2ms/step - loss: 0.3527 - accuracy: 0.8592\n",
            "Epoch 38/200\n",
            "438/438 [==============================] - 1s 2ms/step - loss: 0.3385 - accuracy: 0.8628\n",
            "Epoch 39/200\n",
            "438/438 [==============================] - 1s 2ms/step - loss: 0.3424 - accuracy: 0.8544: 0s - loss: 0.3388 - accu\n",
            "Epoch 40/200\n",
            "438/438 [==============================] - 1s 2ms/step - loss: 0.3453 - accuracy: 0.8575\n",
            "Epoch 41/200\n",
            "438/438 [==============================] - 1s 2ms/step - loss: 0.3445 - accuracy: 0.8565\n",
            "Epoch 42/200\n",
            "438/438 [==============================] - 1s 2ms/step - loss: 0.3660 - accuracy: 0.8539\n",
            "Epoch 43/200\n",
            "438/438 [==============================] - 1s 2ms/step - loss: 0.3654 - accuracy: 0.8455\n",
            "Epoch 44/200\n",
            "438/438 [==============================] - 1s 2ms/step - loss: 0.3348 - accuracy: 0.8614\n",
            "Epoch 45/200\n",
            "438/438 [==============================] - 1s 2ms/step - loss: 0.3507 - accuracy: 0.8564\n",
            "Epoch 46/200\n",
            "438/438 [==============================] - 1s 2ms/step - loss: 0.3485 - accuracy: 0.8575\n",
            "Epoch 47/200\n",
            "438/438 [==============================] - 1s 2ms/step - loss: 0.3654 - accuracy: 0.8584\n",
            "Epoch 48/200\n",
            "438/438 [==============================] - 1s 2ms/step - loss: 0.3360 - accuracy: 0.8623\n",
            "Epoch 49/200\n",
            "438/438 [==============================] - 1s 2ms/step - loss: 0.3525 - accuracy: 0.8596\n",
            "Epoch 50/200\n",
            "438/438 [==============================] - 1s 2ms/step - loss: 0.3440 - accuracy: 0.8588\n",
            "Epoch 51/200\n",
            "438/438 [==============================] - 1s 2ms/step - loss: 0.3491 - accuracy: 0.8581\n",
            "Epoch 52/200\n",
            "438/438 [==============================] - 1s 2ms/step - loss: 0.3560 - accuracy: 0.8511: 0s - los\n",
            "Epoch 53/200\n",
            "438/438 [==============================] - 1s 2ms/step - loss: 0.3425 - accuracy: 0.8595\n",
            "Epoch 54/200\n",
            "438/438 [==============================] - 1s 2ms/step - loss: 0.3610 - accuracy: 0.8532\n",
            "Epoch 55/200\n",
            "438/438 [==============================] - 1s 2ms/step - loss: 0.3579 - accuracy: 0.8506\n",
            "Epoch 56/200\n",
            "438/438 [==============================] - 1s 2ms/step - loss: 0.3501 - accuracy: 0.8588\n",
            "Epoch 57/200\n",
            "438/438 [==============================] - 1s 2ms/step - loss: 0.3546 - accuracy: 0.8569\n",
            "Epoch 58/200\n",
            "438/438 [==============================] - 1s 2ms/step - loss: 0.3471 - accuracy: 0.8614: 0s - loss: 0.3465 - accuracy\n",
            "Epoch 59/200\n",
            "438/438 [==============================] - 1s 2ms/step - loss: 0.3496 - accuracy: 0.8545\n",
            "Epoch 60/200\n",
            "438/438 [==============================] - 1s 2ms/step - loss: 0.3412 - accuracy: 0.8577\n",
            "Epoch 61/200\n",
            "438/438 [==============================] - 1s 2ms/step - loss: 0.3493 - accuracy: 0.8649\n",
            "Epoch 62/200\n",
            "438/438 [==============================] - 1s 2ms/step - loss: 0.3469 - accuracy: 0.8633\n",
            "Epoch 63/200\n",
            "438/438 [==============================] - 1s 2ms/step - loss: 0.3386 - accuracy: 0.8656\n",
            "Epoch 64/200\n",
            "438/438 [==============================] - 1s 2ms/step - loss: 0.3565 - accuracy: 0.8550\n",
            "Epoch 65/200\n",
            "438/438 [==============================] - 1s 2ms/step - loss: 0.3557 - accuracy: 0.8645\n",
            "Epoch 66/200\n",
            "438/438 [==============================] - 1s 2ms/step - loss: 0.3483 - accuracy: 0.8620\n",
            "Epoch 67/200\n",
            "438/438 [==============================] - 1s 2ms/step - loss: 0.3455 - accuracy: 0.8585\n",
            "Epoch 68/200\n",
            "438/438 [==============================] - 1s 2ms/step - loss: 0.3347 - accuracy: 0.8619\n",
            "Epoch 69/200\n",
            "438/438 [==============================] - 1s 2ms/step - loss: 0.3375 - accuracy: 0.8638\n",
            "Epoch 70/200\n",
            "438/438 [==============================] - 1s 2ms/step - loss: 0.3542 - accuracy: 0.8593\n",
            "Epoch 71/200\n",
            "438/438 [==============================] - 1s 2ms/step - loss: 0.3504 - accuracy: 0.8572\n",
            "Epoch 72/200\n",
            "438/438 [==============================] - 1s 2ms/step - loss: 0.3490 - accuracy: 0.8540\n",
            "Epoch 73/200\n",
            "438/438 [==============================] - 1s 2ms/step - loss: 0.3555 - accuracy: 0.8520\n",
            "Epoch 74/200\n",
            "438/438 [==============================] - 1s 2ms/step - loss: 0.3437 - accuracy: 0.8589\n",
            "Epoch 75/200\n",
            "438/438 [==============================] - 1s 2ms/step - loss: 0.3399 - accuracy: 0.8654\n",
            "Epoch 76/200\n",
            "438/438 [==============================] - 1s 2ms/step - loss: 0.3300 - accuracy: 0.8657\n",
            "Epoch 77/200\n",
            "438/438 [==============================] - 1s 2ms/step - loss: 0.3342 - accuracy: 0.8609\n",
            "Epoch 78/200\n",
            "438/438 [==============================] - 1s 2ms/step - loss: 0.3321 - accuracy: 0.8663\n",
            "Epoch 79/200\n",
            "438/438 [==============================] - 1s 2ms/step - loss: 0.3446 - accuracy: 0.8605\n",
            "Epoch 80/200\n",
            "438/438 [==============================] - 1s 2ms/step - loss: 0.3369 - accuracy: 0.8639\n",
            "Epoch 81/200\n",
            "438/438 [==============================] - 1s 2ms/step - loss: 0.3435 - accuracy: 0.8601\n",
            "Epoch 82/200\n",
            "438/438 [==============================] - 1s 2ms/step - loss: 0.3390 - accuracy: 0.8623\n",
            "Epoch 83/200\n",
            "438/438 [==============================] - 1s 2ms/step - loss: 0.3403 - accuracy: 0.8670\n",
            "Epoch 84/200\n",
            "438/438 [==============================] - 1s 2ms/step - loss: 0.3400 - accuracy: 0.8626\n",
            "Epoch 85/200\n",
            "438/438 [==============================] - 1s 2ms/step - loss: 0.3487 - accuracy: 0.8588\n",
            "Epoch 86/200\n",
            "438/438 [==============================] - 1s 3ms/step - loss: 0.3421 - accuracy: 0.8600\n",
            "Epoch 87/200\n",
            "438/438 [==============================] - 1s 2ms/step - loss: 0.3635 - accuracy: 0.8400\n",
            "Epoch 88/200\n",
            "438/438 [==============================] - 1s 2ms/step - loss: 0.3470 - accuracy: 0.8547\n",
            "Epoch 89/200\n",
            "438/438 [==============================] - 1s 2ms/step - loss: 0.3491 - accuracy: 0.8547\n",
            "Epoch 90/200\n",
            "438/438 [==============================] - 1s 2ms/step - loss: 0.3500 - accuracy: 0.8595: 0s - loss: 0.3502 - accuracy: 0.85\n",
            "Epoch 91/200\n",
            "438/438 [==============================] - 1s 2ms/step - loss: 0.3609 - accuracy: 0.8472\n",
            "Epoch 92/200\n",
            "438/438 [==============================] - 1s 2ms/step - loss: 0.3493 - accuracy: 0.8576\n",
            "Epoch 93/200\n",
            "438/438 [==============================] - 1s 2ms/step - loss: 0.3358 - accuracy: 0.8618\n",
            "Epoch 94/200\n",
            "438/438 [==============================] - 1s 2ms/step - loss: 0.3491 - accuracy: 0.8578: 0s -\n",
            "Epoch 95/200\n",
            "438/438 [==============================] - 1s 2ms/step - loss: 0.3371 - accuracy: 0.8600\n",
            "Epoch 96/200\n",
            "438/438 [==============================] - 1s 2ms/step - loss: 0.3405 - accuracy: 0.8593\n",
            "Epoch 97/200\n",
            "438/438 [==============================] - 1s 2ms/step - loss: 0.3455 - accuracy: 0.8577\n",
            "Epoch 98/200\n",
            "438/438 [==============================] - 1s 2ms/step - loss: 0.3361 - accuracy: 0.8618\n",
            "Epoch 99/200\n",
            "438/438 [==============================] - 1s 2ms/step - loss: 0.3439 - accuracy: 0.8584\n",
            "Epoch 100/200\n",
            "438/438 [==============================] - 1s 2ms/step - loss: 0.3393 - accuracy: 0.8609\n",
            "Epoch 101/200\n",
            "438/438 [==============================] - 1s 2ms/step - loss: 0.3344 - accuracy: 0.8634\n",
            "Epoch 102/200\n",
            "438/438 [==============================] - 1s 2ms/step - loss: 0.3497 - accuracy: 0.8555\n",
            "Epoch 103/200\n",
            "438/438 [==============================] - 1s 2ms/step - loss: 0.3395 - accuracy: 0.8590\n",
            "Epoch 104/200\n",
            "438/438 [==============================] - 1s 2ms/step - loss: 0.3372 - accuracy: 0.8608: 0s - loss: 0.3310 - accuracy: 0. - ETA: 0s - loss: 0.3338 - \n",
            "Epoch 105/200\n",
            "438/438 [==============================] - 1s 2ms/step - loss: 0.3509 - accuracy: 0.8585\n",
            "Epoch 106/200\n",
            "438/438 [==============================] - 1s 2ms/step - loss: 0.3437 - accuracy: 0.8538\n",
            "Epoch 107/200\n",
            "438/438 [==============================] - 1s 2ms/step - loss: 0.3287 - accuracy: 0.8643\n",
            "Epoch 108/200\n",
            "438/438 [==============================] - 1s 2ms/step - loss: 0.3384 - accuracy: 0.8593\n",
            "Epoch 109/200\n",
            "438/438 [==============================] - 1s 2ms/step - loss: 0.3388 - accuracy: 0.8585\n",
            "Epoch 110/200\n",
            "438/438 [==============================] - 1s 2ms/step - loss: 0.3372 - accuracy: 0.8570\n",
            "Epoch 111/200\n",
            "438/438 [==============================] - 1s 2ms/step - loss: 0.3439 - accuracy: 0.8586\n",
            "Epoch 112/200\n",
            "438/438 [==============================] - 1s 2ms/step - loss: 0.3210 - accuracy: 0.8677\n",
            "Epoch 113/200\n",
            "438/438 [==============================] - 1s 2ms/step - loss: 0.3384 - accuracy: 0.8591\n",
            "Epoch 114/200\n",
            "438/438 [==============================] - 1s 3ms/step - loss: 0.3277 - accuracy: 0.8637\n",
            "Epoch 115/200\n",
            "438/438 [==============================] - 1s 2ms/step - loss: 0.3352 - accuracy: 0.8634\n",
            "Epoch 116/200\n",
            "438/438 [==============================] - 1s 2ms/step - loss: 0.3322 - accuracy: 0.8652\n",
            "Epoch 117/200\n",
            "438/438 [==============================] - 1s 2ms/step - loss: 0.3304 - accuracy: 0.8613\n",
            "Epoch 118/200\n",
            "438/438 [==============================] - 1s 2ms/step - loss: 0.3406 - accuracy: 0.8643: 0s - loss: 0.3407 - accura\n",
            "Epoch 119/200\n",
            "438/438 [==============================] - 1s 2ms/step - loss: 0.3334 - accuracy: 0.8639\n",
            "Epoch 120/200\n",
            "438/438 [==============================] - 1s 2ms/step - loss: 0.3346 - accuracy: 0.8646: 0s - loss: 0\n",
            "Epoch 121/200\n",
            "438/438 [==============================] - 1s 2ms/step - loss: 0.3311 - accuracy: 0.8637\n",
            "Epoch 122/200\n",
            "438/438 [==============================] - 1s 2ms/step - loss: 0.3395 - accuracy: 0.8592\n",
            "Epoch 123/200\n",
            "438/438 [==============================] - 1s 2ms/step - loss: 0.3335 - accuracy: 0.8591\n",
            "Epoch 124/200\n",
            "438/438 [==============================] - 1s 2ms/step - loss: 0.3316 - accuracy: 0.8683\n",
            "Epoch 125/200\n",
            "438/438 [==============================] - 1s 2ms/step - loss: 0.3417 - accuracy: 0.8648\n",
            "Epoch 126/200\n",
            "438/438 [==============================] - 1s 2ms/step - loss: 0.3478 - accuracy: 0.8576\n",
            "Epoch 127/200\n",
            "438/438 [==============================] - 1s 2ms/step - loss: 0.3325 - accuracy: 0.8587\n",
            "Epoch 128/200\n",
            "438/438 [==============================] - 1s 2ms/step - loss: 0.3360 - accuracy: 0.8629\n",
            "Epoch 129/200\n",
            "438/438 [==============================] - 1s 2ms/step - loss: 0.3409 - accuracy: 0.8574\n",
            "Epoch 130/200\n",
            "438/438 [==============================] - 1s 2ms/step - loss: 0.3256 - accuracy: 0.8595\n",
            "Epoch 131/200\n",
            "438/438 [==============================] - 1s 2ms/step - loss: 0.3371 - accuracy: 0.8624\n",
            "Epoch 132/200\n",
            "438/438 [==============================] - 1s 2ms/step - loss: 0.3252 - accuracy: 0.8688\n",
            "Epoch 133/200\n",
            "438/438 [==============================] - 1s 2ms/step - loss: 0.3691 - accuracy: 0.8570\n",
            "Epoch 134/200\n",
            "438/438 [==============================] - 1s 2ms/step - loss: 0.3336 - accuracy: 0.8609\n",
            "Epoch 135/200\n",
            "438/438 [==============================] - 1s 2ms/step - loss: 0.3439 - accuracy: 0.8601\n",
            "Epoch 136/200\n",
            "438/438 [==============================] - 1s 2ms/step - loss: 0.3447 - accuracy: 0.8589\n",
            "Epoch 137/200\n",
            "438/438 [==============================] - 1s 2ms/step - loss: 0.3383 - accuracy: 0.8577\n",
            "Epoch 138/200\n",
            "438/438 [==============================] - 1s 2ms/step - loss: 0.3468 - accuracy: 0.8547: 0s - los\n",
            "Epoch 139/200\n",
            "438/438 [==============================] - 1s 2ms/step - loss: 0.3404 - accuracy: 0.8602\n",
            "Epoch 140/200\n",
            "438/438 [==============================] - 1s 2ms/step - loss: 0.3495 - accuracy: 0.8582\n",
            "Epoch 141/200\n",
            "438/438 [==============================] - 1s 2ms/step - loss: 0.3240 - accuracy: 0.8678\n",
            "Epoch 142/200\n",
            "438/438 [==============================] - 1s 2ms/step - loss: 0.3422 - accuracy: 0.8594\n",
            "Epoch 143/200\n",
            "438/438 [==============================] - 1s 2ms/step - loss: 0.3742 - accuracy: 0.8555\n",
            "Epoch 144/200\n",
            "438/438 [==============================] - 1s 2ms/step - loss: 0.3365 - accuracy: 0.8652\n",
            "Epoch 145/200\n",
            "438/438 [==============================] - 1s 2ms/step - loss: 0.3368 - accuracy: 0.8590\n",
            "Epoch 146/200\n",
            "438/438 [==============================] - 1s 2ms/step - loss: 0.3445 - accuracy: 0.8548\n",
            "Epoch 147/200\n",
            "438/438 [==============================] - 1s 2ms/step - loss: 0.3336 - accuracy: 0.8564\n",
            "Epoch 148/200\n",
            "438/438 [==============================] - 1s 2ms/step - loss: 0.3434 - accuracy: 0.8548\n",
            "Epoch 149/200\n",
            "438/438 [==============================] - 1s 2ms/step - loss: 0.3294 - accuracy: 0.8669\n",
            "Epoch 150/200\n",
            "438/438 [==============================] - 1s 2ms/step - loss: 0.3476 - accuracy: 0.8540\n",
            "Epoch 151/200\n",
            "438/438 [==============================] - 1s 2ms/step - loss: 0.3290 - accuracy: 0.8647\n",
            "Epoch 152/200\n",
            "438/438 [==============================] - 1s 2ms/step - loss: 0.3411 - accuracy: 0.8598\n",
            "Epoch 153/200\n",
            "438/438 [==============================] - 1s 2ms/step - loss: 0.3471 - accuracy: 0.8575\n",
            "Epoch 154/200\n",
            "438/438 [==============================] - 1s 2ms/step - loss: 0.3730 - accuracy: 0.8475\n",
            "Epoch 155/200\n",
            "438/438 [==============================] - 1s 2ms/step - loss: 0.3353 - accuracy: 0.8587\n",
            "Epoch 156/200\n",
            "438/438 [==============================] - 1s 2ms/step - loss: 0.3252 - accuracy: 0.8659\n",
            "Epoch 157/200\n",
            "438/438 [==============================] - 1s 2ms/step - loss: 0.3213 - accuracy: 0.8676\n",
            "Epoch 158/200\n",
            "438/438 [==============================] - 1s 2ms/step - loss: 0.3448 - accuracy: 0.8565\n",
            "Epoch 159/200\n",
            "438/438 [==============================] - 1s 2ms/step - loss: 0.3472 - accuracy: 0.8576\n",
            "Epoch 160/200\n",
            "438/438 [==============================] - 1s 2ms/step - loss: 0.3315 - accuracy: 0.8631\n",
            "Epoch 161/200\n",
            "438/438 [==============================] - 1s 2ms/step - loss: 0.3478 - accuracy: 0.8545\n",
            "Epoch 162/200\n",
            "438/438 [==============================] - 1s 2ms/step - loss: 0.3269 - accuracy: 0.8677\n",
            "Epoch 163/200\n",
            "438/438 [==============================] - 1s 2ms/step - loss: 0.3406 - accuracy: 0.8529\n",
            "Epoch 164/200\n",
            "438/438 [==============================] - 1s 2ms/step - loss: 0.3383 - accuracy: 0.8633\n",
            "Epoch 165/200\n",
            "438/438 [==============================] - 1s 2ms/step - loss: 0.3383 - accuracy: 0.8580\n",
            "Epoch 166/200\n",
            "438/438 [==============================] - 1s 2ms/step - loss: 0.3330 - accuracy: 0.8600\n",
            "Epoch 167/200\n",
            "438/438 [==============================] - 1s 2ms/step - loss: 0.3375 - accuracy: 0.8595\n",
            "Epoch 168/200\n",
            "438/438 [==============================] - 1s 2ms/step - loss: 0.3273 - accuracy: 0.8644\n",
            "Epoch 169/200\n",
            "438/438 [==============================] - 1s 2ms/step - loss: 0.3356 - accuracy: 0.8589\n",
            "Epoch 170/200\n",
            "438/438 [==============================] - 1s 2ms/step - loss: 0.3304 - accuracy: 0.8631\n",
            "Epoch 171/200\n",
            "438/438 [==============================] - 1s 2ms/step - loss: 0.3355 - accuracy: 0.8599\n",
            "Epoch 172/200\n",
            "438/438 [==============================] - 1s 2ms/step - loss: 0.3389 - accuracy: 0.8577\n",
            "Epoch 173/200\n",
            "438/438 [==============================] - 1s 2ms/step - loss: 0.3452 - accuracy: 0.8547: 0s - loss: 0.3\n",
            "Epoch 174/200\n",
            "438/438 [==============================] - 1s 2ms/step - loss: 0.3300 - accuracy: 0.8616\n",
            "Epoch 175/200\n",
            "438/438 [==============================] - 1s 2ms/step - loss: 0.3455 - accuracy: 0.8588\n",
            "Epoch 176/200\n",
            "438/438 [==============================] - 1s 2ms/step - loss: 0.3315 - accuracy: 0.8642\n",
            "Epoch 177/200\n",
            "438/438 [==============================] - 1s 2ms/step - loss: 0.3300 - accuracy: 0.8660\n",
            "Epoch 178/200\n",
            "438/438 [==============================] - 1s 2ms/step - loss: 0.3416 - accuracy: 0.8632\n",
            "Epoch 179/200\n",
            "438/438 [==============================] - 1s 2ms/step - loss: 0.3287 - accuracy: 0.8641\n",
            "Epoch 180/200\n",
            "438/438 [==============================] - 1s 2ms/step - loss: 0.3283 - accuracy: 0.8600\n",
            "Epoch 181/200\n",
            "438/438 [==============================] - 1s 2ms/step - loss: 0.3313 - accuracy: 0.8663\n",
            "Epoch 182/200\n",
            "438/438 [==============================] - 1s 2ms/step - loss: 0.3254 - accuracy: 0.8689\n",
            "Epoch 183/200\n",
            "438/438 [==============================] - 1s 2ms/step - loss: 0.3158 - accuracy: 0.8716\n",
            "Epoch 184/200\n",
            "438/438 [==============================] - 1s 2ms/step - loss: 0.3383 - accuracy: 0.8602\n",
            "Epoch 185/200\n",
            "438/438 [==============================] - 1s 2ms/step - loss: 0.3184 - accuracy: 0.8645\n",
            "Epoch 186/200\n",
            "438/438 [==============================] - 1s 2ms/step - loss: 0.3483 - accuracy: 0.8539\n",
            "Epoch 187/200\n",
            "438/438 [==============================] - 1s 2ms/step - loss: 0.3340 - accuracy: 0.8664\n",
            "Epoch 188/200\n",
            "438/438 [==============================] - 1s 2ms/step - loss: 0.3259 - accuracy: 0.8695\n",
            "Epoch 189/200\n",
            "438/438 [==============================] - 1s 2ms/step - loss: 0.3241 - accuracy: 0.8671\n",
            "Epoch 190/200\n",
            "438/438 [==============================] - 1s 2ms/step - loss: 0.3353 - accuracy: 0.8633\n",
            "Epoch 191/200\n",
            "438/438 [==============================] - 1s 2ms/step - loss: 0.3277 - accuracy: 0.8690\n",
            "Epoch 192/200\n",
            "438/438 [==============================] - 1s 2ms/step - loss: 0.3255 - accuracy: 0.8720\n",
            "Epoch 193/200\n",
            "438/438 [==============================] - 1s 2ms/step - loss: 0.3467 - accuracy: 0.8584: 0s - loss: 0.3471 - accuracy: \n",
            "Epoch 194/200\n",
            "438/438 [==============================] - 1s 2ms/step - loss: 0.3365 - accuracy: 0.8593\n",
            "Epoch 195/200\n",
            "438/438 [==============================] - 1s 2ms/step - loss: 0.3391 - accuracy: 0.8572\n",
            "Epoch 196/200\n",
            "438/438 [==============================] - 1s 2ms/step - loss: 0.3388 - accuracy: 0.8595\n",
            "Epoch 197/200\n",
            "438/438 [==============================] - 1s 2ms/step - loss: 0.3349 - accuracy: 0.8579\n",
            "Epoch 198/200\n",
            "438/438 [==============================] - 1s 2ms/step - loss: 0.3208 - accuracy: 0.8696\n",
            "Epoch 199/200\n",
            "438/438 [==============================] - 1s 2ms/step - loss: 0.3316 - accuracy: 0.8612\n",
            "Epoch 200/200\n",
            "438/438 [==============================] - 1s 2ms/step - loss: 0.3339 - accuracy: 0.8686\n"
          ]
        },
        {
          "data": {
            "text/plain": [
              "<tensorflow.python.keras.callbacks.History at 0x20151bfc8e0>"
            ]
          },
          "execution_count": 144,
          "metadata": {},
          "output_type": "execute_result"
        }
      ],
      "source": [
        "ann=tf.keras.models.Sequential()\n",
        "ann.add(tf.keras.layers.Dense(units=8,activation='relu'))\n",
        "ann.add(tf.keras.layers.Dense(units=6,activation=leaky_relu))\n",
        "ann.add(tf.keras.layers.Dense(units=1,activation=leaky_relu))   \n",
        "ann.compile(optimizer='Adam',loss='binary_crossentropy',metrics=['accuracy'])\n",
        "ann.fit(X_train,y_train,batch_size=16,epochs=200)"
      ]
    },
    {
      "cell_type": "code",
      "execution_count": 145,
      "metadata": {},
      "outputs": [],
      "source": [
        "filename = 'data/Updated_model.h5'\n",
        "ann.save(filename)"
      ]
    },
    {
      "cell_type": "code",
      "execution_count": 149,
      "metadata": {
        "colab": {
          "base_uri": "https://localhost:8080/"
        },
        "id": "eFtT0jmDRTF5",
        "outputId": "9c9c6450-b8b2-42d0-bc83-cf19706a0eb1"
      },
      "outputs": [
        {
          "name": "stdout",
          "output_type": "stream",
          "text": [
            "              precision    recall  f1-score   support\n",
            "\n",
            "           0       0.88      0.96      0.92      1591\n",
            "           1       0.76      0.51      0.61       419\n",
            "\n",
            "    accuracy                           0.86      2010\n",
            "   macro avg       0.82      0.73      0.76      2010\n",
            "weighted avg       0.86      0.86      0.85      2010\n",
            "\n"
          ]
        }
      ],
      "source": [
        "y_pred=ann.predict(X_test)\n",
        "y_pred=(y_pred>0.5)\n",
        "print(classification_report(y_test, y_pred))"
      ]
    },
    {
      "cell_type": "code",
      "execution_count": 148,
      "metadata": {},
      "outputs": [
        {
          "name": "stdout",
          "output_type": "stream",
          "text": [
            "              precision    recall  f1-score   support\n",
            "\n",
            "           0       0.88      0.95      0.91       788\n",
            "           1       0.71      0.49      0.57       202\n",
            "\n",
            "    accuracy                           0.85       990\n",
            "   macro avg       0.79      0.72      0.74       990\n",
            "weighted avg       0.84      0.85      0.84       990\n",
            "\n"
          ]
        }
      ],
      "source": [
        "y_val_pred=ann.predict(X_validation)\n",
        "y_val_pred=(y_val_pred>0.5)\n",
        "print(classification_report(y_validation, y_val_pred))"
      ]
    }
  ],
  "metadata": {
    "colab": {
      "collapsed_sections": [],
      "name": "bank Churn pred.ipynb",
      "provenance": []
    },
    "kernelspec": {
      "display_name": "Python 3",
      "name": "python3"
    },
    "language_info": {
      "codemirror_mode": {
        "name": "ipython",
        "version": 3
      },
      "file_extension": ".py",
      "mimetype": "text/x-python",
      "name": "python",
      "nbconvert_exporter": "python",
      "pygments_lexer": "ipython3",
      "version": "3.8.10"
    }
  },
  "nbformat": 4,
  "nbformat_minor": 0
}
